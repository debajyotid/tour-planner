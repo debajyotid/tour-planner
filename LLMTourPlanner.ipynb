{
 "cells": [
  {
   "cell_type": "markdown",
   "metadata": {},
   "source": [
    "<a href=\"https://www.kaggle.com/code/debajyotidas/llmtourplanner?scriptVersionId=235078015\" target=\"_blank\"><img align=\"left\" alt=\"Kaggle\" title=\"Open in Kaggle\" src=\"https://kaggle.com/static/images/open-in-kaggle.svg\"></a>"
   ]
  },
  {
   "cell_type": "markdown",
   "metadata": {
    "_cell_guid": "b1076dfc-b9ad-4769-8c92-a6c4dae69d19",
    "_uuid": "8f2839f25d086af736a60e9eeb907d3b93b6e0e5",
    "execution": {
     "iopub.execute_input": "2025-04-16T15:23:43.532927Z",
     "iopub.status.busy": "2025-04-16T15:23:43.53262Z",
     "iopub.status.idle": "2025-04-16T15:23:43.538963Z",
     "shell.execute_reply": "2025-04-16T15:23:43.537973Z",
     "shell.execute_reply.started": "2025-04-16T15:23:43.532906Z"
    }
   },
   "source": [
    "# Building an Intelligent, AI-Powered Trip Planner, combining OpenAI and LangChain for Personalized Trip Planning\n",
    "\n",
    "## Introduction\t\n",
    "In this project, we've created a sophisticated travel planning assistant that leverages OpenAI's GPT-3.5 model and LangChain's conversation management capabilities. Our system combines real-time weather data, local attractions information, and personalized preferences to generate detailed travel itineraries.\n",
    "\n",
    "## Key Features\n",
    "- Personalized itinerary generation based on:\n",
    "    - Destination\n",
    "    - Date range  \n",
    "    - Budget constraints\n",
    "    - Personal interests\n",
    "    - Local weather conditions\n",
    "    - Popular tourist attractions\n",
    "- Interactive refinement through natural conversation\n",
    "- Integration with Google Maps API for location data\n",
    "- Real-time weather updates via OpenWeather API\n",
    "\n",
    "## Technical Implementation\n",
    "The system is built using:\n",
    "- OpenAI's gpt-3.5-turbo-0125 model for natural language processing\n",
    "- LangChain for managing conversation history and context\n",
    "- Google Maps API for location and attraction data\n",
    "- OpenWeather API for weather forecasts\n",
    "- Python libraries: pandas, ipywidgets\n",
    "\n",
    "## How It Works\n",
    "1. Users input their travel preferences including destination, dates, and interests\n",
    "2. The system fetches real-time data about local attractions and weather\n",
    "3. An AI-generated itinerary is created based on all inputs\n",
    "4. Users can refine the itinerary through natural conversation with the AI\n",
    "\n",
    "## Practical Applications\n",
    "This tool demonstrates the power of combining:\n",
    "- Large Language Models (LLMs)\n",
    "- Real-time data integration\n",
    "- Conversational AI\n",
    "- API orchestration\n",
    "\n",
    "Perfect for travel agencies, individual travelers, or anyone looking to plan a detailed, personalized trip."
   ]
  },
  {
   "cell_type": "markdown",
   "metadata": {},
   "source": [
    "#### In the below cells we will look to leverage the capabilities of OpenAI's \"gpt-3.5-turbo-0125\" model to build a smart Trip-planner, which takes as input a trip destination of your choice, trip start and end dates, and your estimated budget for the trip. The planner also takes into consideration some of the things you maybe interested in doing on your trip, from a predefined list of interests.\n",
    "#### In addition, using LangChains chaining capabilities, you can also chat with the planner to further fine-tune the generated itinenary "
   ]
  },
  {
   "cell_type": "code",
   "execution_count": null,
   "metadata": {
    "trusted": true
   },
   "outputs": [],
   "source": [
    "# installing libraries\n",
    "# !pip install openai\n",
    "# !pip install langchain-openai\n",
    "# !pip install langchain_community\n",
    "# !pip install langchain\n",
    "# !pip install requests\n",
    "# !pip install googlemaps\n",
    "# !pip install ipywidgets"
   ]
  },
  {
   "cell_type": "code",
   "execution_count": 4,
   "metadata": {
    "execution": {
     "iopub.execute_input": "2025-04-20T17:32:56.551506Z",
     "iopub.status.busy": "2025-04-20T17:32:56.551104Z",
     "iopub.status.idle": "2025-04-20T17:32:59.147788Z",
     "shell.execute_reply": "2025-04-20T17:32:59.146796Z",
     "shell.execute_reply.started": "2025-04-20T17:32:56.551474Z"
    },
    "trusted": true
   },
   "outputs": [],
   "source": [
    "#importing dependencies\n",
    "import openai\n",
    "import googlemaps\n",
    "import requests\n",
    "import ipywidgets as widgets\n",
    "\n",
    "from IPython.display import display, clear_output\n",
    "from langchain_community.chat_message_histories import ChatMessageHistory\n",
    "from langchain.prompts import ChatPromptTemplate\n",
    "from langchain.chains import LLMChain\n",
    "from langchain_openai import ChatOpenAI\n",
    "from openai import OpenAI"
   ]
  },
  {
   "cell_type": "code",
   "execution_count": 5,
   "metadata": {
    "execution": {
     "iopub.execute_input": "2025-04-20T17:32:59.149266Z",
     "iopub.status.busy": "2025-04-20T17:32:59.14886Z",
     "iopub.status.idle": "2025-04-20T17:32:59.391875Z",
     "shell.execute_reply": "2025-04-20T17:32:59.390793Z",
     "shell.execute_reply.started": "2025-04-20T17:32:59.149243Z"
    },
    "trusted": true
   },
   "outputs": [],
   "source": [
    "#Getting the API Keys for OpenAI, Google Maps, and OpenWeather\n",
    "from kaggle_secrets import UserSecretsClient\n",
    "user_secrets = UserSecretsClient()\n",
    "OPENAIKEY = user_secrets.get_secret(\"OPENAIKEY\")\n",
    "googlemaps_api_key = user_secrets.get_secret(\"googlemaps_api_key\")\n",
    "openweather_api_key = user_secrets.get_secret(\"openweather_api_key\")"
   ]
  },
  {
   "cell_type": "code",
   "execution_count": 6,
   "metadata": {
    "execution": {
     "iopub.execute_input": "2025-04-20T17:32:59.394215Z",
     "iopub.status.busy": "2025-04-20T17:32:59.393926Z",
     "iopub.status.idle": "2025-04-20T17:32:59.400938Z",
     "shell.execute_reply": "2025-04-20T17:32:59.399775Z",
     "shell.execute_reply.started": "2025-04-20T17:32:59.394191Z"
    },
    "trusted": true
   },
   "outputs": [],
   "source": [
    "def get_attractions(googlemapsapi, destination):\n",
    "    \"\"\"Fetches a list of tourist attractions near a given destination using the Google Maps API.\n",
    "\n",
    "    Args:\n",
    "        destination (str): The name of the destination (e.g., \"Paris, France\").\n",
    "\n",
    "    Returns:\n",
    "        list[str]: A list of names of tourist attractions near the destination.\n",
    "                   Returns an empty list if no attractions are found.\n",
    "\n",
    "    Raises:\n",
    "        ValueError: If the destination cannot be geocoded.\n",
    "        googlemaps.exceptions.ApiError: If there is an issue with the Google Maps API request.\n",
    "        KeyError: If the API key is not found in Kaggle secrets.\n",
    "\n",
    "    Note:\n",
    "        This function requires the 'googlemaps' libraries to be installed\n",
    "        and a valid Google Maps API key stored in secrets under the key\n",
    "        \"googlemaps_api_key\". It searches for attractions within a 5km radius\n",
    "        of the geocoded destination. Requires 'googlemaps' libraries to be imported.\n",
    "    \"\"\"\n",
    "    lat_lng = (destination['lat'], destination['lng'])\n",
    "\n",
    "    #Using the \"places_nearby\" API to get tourist attractions, within a 5000m radius, of the latitude-longitude of the chosen destination\n",
    "    places_result = googlemapsapi.places_nearby(location=lat_lng,radius=5000,type='tourist_attraction')\n",
    "    return [place['name'] for place in places_result['results']]"
   ]
  },
  {
   "cell_type": "code",
   "execution_count": 7,
   "metadata": {
    "execution": {
     "iopub.execute_input": "2025-04-20T17:32:59.403Z",
     "iopub.status.busy": "2025-04-20T17:32:59.40209Z",
     "iopub.status.idle": "2025-04-20T17:32:59.426885Z",
     "shell.execute_reply": "2025-04-20T17:32:59.4259Z",
     "shell.execute_reply.started": "2025-04-20T17:32:59.40297Z"
    },
    "trusted": true
   },
   "outputs": [],
   "source": [
    "def get_weather(destination):\n",
    "    \"\"\"Fetches the current weather description for a given destination using OpenWeatherMap API.\n",
    "\n",
    "    Args:\n",
    "        destination (str): The city name for which to retrieve the weather.\n",
    "\n",
    "    Returns:\n",
    "        str: A string describing the current weather conditions (e.g., 'clear sky').\n",
    "             Note: This function assumes the API key is stored in secrets\n",
    "             and does not handle potential errors like invalid destinations,\n",
    "             network issues, or API key problems gracefully. It might raise\n",
    "             exceptions (e.g., KeyError, requests.exceptions.RequestException)\n",
    "             if the API call fails or the response format is unexpected. Requires\n",
    "             'requests' libraries to be imported.\n",
    "    \"\"\"\n",
    "    \n",
    "    api_key = openweather_api_key\n",
    "    url = f\"http://api.openweathermap.org/data/2.5/weather?lat={destination['lat']}&lon={destination['lng']}&appid={api_key}\"\n",
    "    response = requests.get(url).json()\n",
    "    if response.get('weather'):\n",
    "        return response['weather'][0]['description']\n",
    "    else:\n",
    "        return \"Weather data not available.\""
   ]
  },
  {
   "cell_type": "code",
   "execution_count": 8,
   "metadata": {
    "execution": {
     "iopub.execute_input": "2025-04-20T17:32:59.428357Z",
     "iopub.status.busy": "2025-04-20T17:32:59.428019Z",
     "iopub.status.idle": "2025-04-20T17:32:59.456571Z",
     "shell.execute_reply": "2025-04-20T17:32:59.455804Z",
     "shell.execute_reply.started": "2025-04-20T17:32:59.428326Z"
    },
    "trusted": true
   },
   "outputs": [],
   "source": [
    "def generate_itinerary(destination, start_date, end_date, budget, interests):\n",
    "    \"\"\"Generates a personalized travel itinerary using OpenAI.\n",
    "\n",
    "    Fetches local attractions and weather forecasts to create a detailed,\n",
    "    day-by-day plan based on user preferences and constraints.\n",
    "\n",
    "    Args:\n",
    "        destination (str): The city or region for the trip.\n",
    "        start_date (str): The starting date of the trip (e.g., \"DD-MM-YYYY\").\n",
    "        end_date (str): The ending date of the trip (e.g., \"DD-MM-YYYY\").\n",
    "        budget (float | int): The total budget for the trip in GBP (£).\n",
    "        interests (list[str]): A list of the traveler's interests (e.g., [\"history\", \"food\"]).\n",
    "\n",
    "    Returns:\n",
    "        str: A string containing the generated day-by-day itinerary from the OpenAI model.\n",
    "\n",
    "    Raises:\n",
    "        openai.APIError: If there is an issue communicating with the OpenAI API.\n",
    "        # Note: This function also depends on the successful execution of\n",
    "        # get_attractions() and get_weather(), which might raise their own specific errors\n",
    "        # (e.g., related to Google Maps API, OpenWeatherMap API, network issues, or missing keys).\n",
    "\n",
    "    Note:\n",
    "        Assumes `get_attractions` and `get_weather` functions are defined and\n",
    "        accessible in the same scope and handle their own API interactions.\n",
    "        Also for successful execution of geoencoding, this function requires \n",
    "        the 'googlemaps' libraries to be installed and a valid Google Maps API key \n",
    "        stored in secrets under the key \"googlemaps_api_key\".\n",
    "    \"\"\"\n",
    "\n",
    "    #Generating the latitude and longitudes for the chosen destination using GoogleMaps APIs    \n",
    "    gmaps = googlemaps.Client(key=googlemaps_api_key)\n",
    "    geocode_result = gmaps.geocode(destination)\n",
    "    if not geocode_result:\n",
    "        raise ValueError(f\"Could not geocode destination: {destination}\")\n",
    "    location = geocode_result[0]['geometry']['location']\n",
    "    \n",
    "    tourist_attraction = get_attractions(gmaps, location) #Getting tourist attractions for the chosen destination\n",
    "    weather_forecast = get_weather(location) #Getting the weather forecast, for the chosen destination, and chosen dates.\n",
    "\n",
    "    client = OpenAI(api_key=OPENAIKEY)\n",
    "    prompt = f\"\"\"\n",
    "    You are a helpful tour planner.\n",
    "    Please create a day-by-day itinerary, within 1000 words or less,\n",
    "    for a trip to {destination},\n",
    "    from {start_date} to {end_date},\n",
    "    within a budget of £{budget}, and \n",
    "    with focus on the below interests {', '.join(interests)}.\n",
    "    Please also include places like, {tourist_attraction}, in the itinerary and\n",
    "    factor the forecasted weather, like {weather_forecast} while building the itinerary.\n",
    "    \"\"\"\n",
    "    response = client.chat.completions.create(model=\"gpt-3.5-turbo-0125\",\n",
    "                                              messages=[\n",
    "                                                            {\n",
    "                                                                \"role\": \"developer\",\n",
    "                                                                \"content\": prompt\n",
    "                                                            }\n",
    "                                                        ],\n",
    "                                              max_tokens=1000,\n",
    "                                              temperature=0)\n",
    "    return response.choices[0].message.content"
   ]
  },
  {
   "cell_type": "code",
   "execution_count": 9,
   "metadata": {
    "execution": {
     "iopub.execute_input": "2025-04-20T17:32:59.457938Z",
     "iopub.status.busy": "2025-04-20T17:32:59.457608Z",
     "iopub.status.idle": "2025-04-20T17:33:11.738351Z",
     "shell.execute_reply": "2025-04-20T17:33:11.737368Z",
     "shell.execute_reply.started": "2025-04-20T17:32:59.457911Z"
    },
    "trusted": true
   },
   "outputs": [
    {
     "name": "stdout",
     "output_type": "stream",
     "text": [
      "Enter your destination: Paris\n"
     ]
    }
   ],
   "source": [
    "destination = input(\"Enter your destination:\")"
   ]
  },
  {
   "cell_type": "code",
   "execution_count": 10,
   "metadata": {
    "execution": {
     "iopub.execute_input": "2025-04-20T17:33:11.739519Z",
     "iopub.status.busy": "2025-04-20T17:33:11.739259Z",
     "iopub.status.idle": "2025-04-20T17:33:19.061629Z",
     "shell.execute_reply": "2025-04-20T17:33:19.060597Z",
     "shell.execute_reply.started": "2025-04-20T17:33:11.739492Z"
    },
    "trusted": true
   },
   "outputs": [
    {
     "name": "stdout",
     "output_type": "stream",
     "text": [
      "Enter your budget (£): 500\n"
     ]
    }
   ],
   "source": [
    "budget = input(\"Enter your budget (£):\")"
   ]
  },
  {
   "cell_type": "code",
   "execution_count": 11,
   "metadata": {
    "execution": {
     "iopub.execute_input": "2025-04-20T17:33:19.062972Z",
     "iopub.status.busy": "2025-04-20T17:33:19.062615Z",
     "iopub.status.idle": "2025-04-20T17:33:19.081066Z",
     "shell.execute_reply": "2025-04-20T17:33:19.079908Z",
     "shell.execute_reply.started": "2025-04-20T17:33:19.06294Z"
    },
    "trusted": true
   },
   "outputs": [],
   "source": [
    "# Create the Start-Date DatePicker widget\n",
    "startdatewidget = widgets.DatePicker(description='Pick a Start Date',\n",
    "                                     style={'description_width': 'initial'})\n",
    "\n",
    "# Create the End-Date DatePicker widget\n",
    "enddatewidget = widgets.DatePicker(description='Pick an End Date',\n",
    "                                   style={'description_width': 'initial'})\n",
    "\n",
    "# Define your interests\n",
    "options = [\"Nature\", \"History\", \"Food\", \"Adventure\", \"Shopping\", \"Relaxation\"]\n",
    "\n",
    "# Create the Interests SelectMultiple widget\n",
    "interestswidget = widgets.SelectMultiple(options=options,\n",
    "                                         description=\"Choose your interests:\",\n",
    "                                         rows=6,\n",
    "                                         style={'description_width': 'initial'},\n",
    "                                         disabled=False)\n",
    "\n",
    "# Create a button\n",
    "submit_button = widgets.Button(description=\"Submit\")\n",
    "\n",
    "# Output area to display selected items\n",
    "output = widgets.Output()"
   ]
  },
  {
   "cell_type": "code",
   "execution_count": 12,
   "metadata": {
    "execution": {
     "iopub.execute_input": "2025-04-20T17:33:19.084275Z",
     "iopub.status.busy": "2025-04-20T17:33:19.083936Z",
     "iopub.status.idle": "2025-04-20T17:33:19.119519Z",
     "shell.execute_reply": "2025-04-20T17:33:19.11816Z",
     "shell.execute_reply.started": "2025-04-20T17:33:19.084252Z"
    },
    "scrolled": true,
    "trusted": true
   },
   "outputs": [
    {
     "data": {
      "application/vnd.jupyter.widget-view+json": {
       "model_id": "e1fa2840678143988ee0a8b2831e9dc9",
       "version_major": 2,
       "version_minor": 0
      },
      "text/plain": [
       "DatePicker(value=None, description='Pick a Start Date', step=1, style=DescriptionStyle(description_width='init…"
      ]
     },
     "metadata": {},
     "output_type": "display_data"
    },
    {
     "data": {
      "application/vnd.jupyter.widget-view+json": {
       "model_id": "2a87df345b8e49428525809029fc3b31",
       "version_major": 2,
       "version_minor": 0
      },
      "text/plain": [
       "DatePicker(value=None, description='Pick an End Date', step=1, style=DescriptionStyle(description_width='initi…"
      ]
     },
     "metadata": {},
     "output_type": "display_data"
    },
    {
     "data": {
      "application/vnd.jupyter.widget-view+json": {
       "model_id": "7f35be5a16654f6c8bf97fb22186bfb6",
       "version_major": 2,
       "version_minor": 0
      },
      "text/plain": [
       "SelectMultiple(description='Choose your interests:', options=('Nature', 'History', 'Food', 'Adventure', 'Shopp…"
      ]
     },
     "metadata": {},
     "output_type": "display_data"
    },
    {
     "data": {
      "application/vnd.jupyter.widget-view+json": {
       "model_id": "755654122f5b48e1ac60d10a9dec06f1",
       "version_major": 2,
       "version_minor": 0
      },
      "text/plain": [
       "Button(description='Submit', style=ButtonStyle())"
      ]
     },
     "metadata": {},
     "output_type": "display_data"
    },
    {
     "data": {
      "application/vnd.jupyter.widget-view+json": {
       "model_id": "1ceeebce136543e5998f50f62549c1df",
       "version_major": 2,
       "version_minor": 0
      },
      "text/plain": [
       "Output()"
      ]
     },
     "metadata": {},
     "output_type": "display_data"
    }
   ],
   "source": [
    "# On button click\n",
    "def on_submit_clicked(b):\n",
    "    global itinerary\n",
    "    with output:\n",
    "        clear_output()\n",
    "        start_date = startdatewidget.value\n",
    "        end_date = enddatewidget.value\n",
    "        interests = list(interestswidget.value)\n",
    "\n",
    "        if not start_date or not end_date or not interests:\n",
    "            print(\"❗ Please select both trip start and end dates, and at least one interest, before submitting.\")\n",
    "        else:\n",
    "            print(\"Generating your trip plan...\")\n",
    "            itinerary = generate_itinerary(destination, start_date, end_date, budget, interests)\n",
    "            print(\"Your AI-generated itinerary:\\n \")\n",
    "            print(itinerary)\n",
    "\n",
    "submit_button.on_click(on_submit_clicked)\n",
    "\n",
    "# Display everything\n",
    "display(startdatewidget, enddatewidget, interestswidget, submit_button, output)"
   ]
  },
  {
   "cell_type": "markdown",
   "metadata": {},
   "source": [
    "## Now let us add some conversational capabilities to this AI trip-planner"
   ]
  },
  {
   "cell_type": "code",
   "execution_count": 14,
   "metadata": {
    "execution": {
     "iopub.execute_input": "2025-04-20T17:34:57.825467Z",
     "iopub.status.busy": "2025-04-20T17:34:57.825051Z",
     "iopub.status.idle": "2025-04-20T17:34:57.958422Z",
     "shell.execute_reply": "2025-04-20T17:34:57.957574Z",
     "shell.execute_reply.started": "2025-04-20T17:34:57.825441Z"
    },
    "trusted": true
   },
   "outputs": [],
   "source": [
    "history = ChatMessageHistory() #Using LanChain's ChatMessageHistory to save Chat session history\n",
    "#Using OpenAI \"gpt-3.5-turbo-0125\" model to generate the itinenary\n",
    "llm = ChatOpenAI(model=\"gpt-3.5-turbo-0125\",\n",
    "                 temperature=0, \n",
    "                 api_key=OPENAIKEY)\n",
    "\n",
    "# Passing the generated itinenary to the Chat history\n",
    "history.add_ai_message(itinerary)"
   ]
  },
  {
   "cell_type": "code",
   "execution_count": 15,
   "metadata": {
    "execution": {
     "iopub.execute_input": "2025-04-20T17:35:01.74569Z",
     "iopub.status.busy": "2025-04-20T17:35:01.744711Z",
     "iopub.status.idle": "2025-04-20T17:35:01.753142Z",
     "shell.execute_reply": "2025-04-20T17:35:01.751834Z",
     "shell.execute_reply.started": "2025-04-20T17:35:01.745644Z"
    },
    "trusted": true
   },
   "outputs": [],
   "source": [
    "# Generating a new prompt template to handle conversation history\n",
    "prompt = ChatPromptTemplate.from_messages([(\"system\", \"You are a helpful travel planning assistant. Refine the itinerary as per the user's requests.\"),\n",
    "                                           (\"ai\", \"{history}\"),\n",
    "                                           (\"human\", \"{input}\"),])\n",
    "\n",
    "\n",
    "def get_refined_reply(user_input):\n",
    "    # Add the user's new request to memory\n",
    "    history.add_user_message(user_input)\n",
    "\n",
    "     # Format the conversation so far\n",
    "    conversation = \"\"\n",
    "    for msg in history.messages:\n",
    "        if msg.type == \"human\":\n",
    "            conversation += f\"User: {msg.content}\\n\"\n",
    "        else:\n",
    "            conversation += f\"AI: {msg.content}\\n\"\n",
    "\n",
    "    # Create the chain and run it\n",
    "    chain = LLMChain(llm=llm, prompt=prompt)\n",
    "    refined_itinerary = chain.run(history=conversation, input=user_input)\n",
    "    history.add_ai_message(refined_itinerary)\n",
    "    return refined_itinerary"
   ]
  },
  {
   "cell_type": "code",
   "execution_count": 16,
   "metadata": {
    "execution": {
     "iopub.execute_input": "2025-04-20T17:35:06.150708Z",
     "iopub.status.busy": "2025-04-20T17:35:06.150294Z",
     "iopub.status.idle": "2025-04-20T17:35:24.935299Z",
     "shell.execute_reply": "2025-04-20T17:35:24.934208Z",
     "shell.execute_reply.started": "2025-04-20T17:35:06.150682Z"
    },
    "trusted": true
   },
   "outputs": [
    {
     "name": "stdout",
     "output_type": "stream",
     "text": [
      "Do you want some changes (e.g. 'Add more food experiences on Day 2') ? If No, enter 'Exit' to quit Add more food experiences on Day 3\n"
     ]
    },
    {
     "name": "stdout",
     "output_type": "stream",
     "text": [
      "Generating your refined trip plan...\n"
     ]
    },
    {
     "name": "stderr",
     "output_type": "stream",
     "text": [
      "/tmp/ipykernel_31/2587822275.py:20: LangChainDeprecationWarning: The class `LLMChain` was deprecated in LangChain 0.1.17 and will be removed in 1.0. Use :meth:`~RunnableSequence, e.g., `prompt | llm`` instead.\n",
      "  chain = LLMChain(llm=llm, prompt=prompt)\n",
      "/tmp/ipykernel_31/2587822275.py:21: LangChainDeprecationWarning: The method `Chain.run` was deprecated in langchain 0.1.0 and will be removed in 1.0. Use :meth:`~invoke` instead.\n",
      "  refined_itinerary = chain.run(history=conversation, input=user_input)\n"
     ]
    },
    {
     "name": "stdout",
     "output_type": "stream",
     "text": [
      "Your refined AI-generated itinerary:\n",
      " \n",
      "AI: Day 3: 2025-04-22 (Clear sky)\n",
      "- Morning: Visit the Louvre Museum and see iconic artworks like the Mona Lisa.\n",
      "- Afternoon: Stroll through the Jardin du Luxembourg and enjoy a picnic.\n",
      "- Additional Food Experience: Indulge in some delicious French pastries at a local bakery or patisserie.\n",
      "- Evening: Shopping at the upscale boutiques on Rue Saint-Honoré.\n",
      "\n",
      "Would you like to add any specific type of food experience or cuisine for Day 3?\n"
     ]
    },
    {
     "name": "stdout",
     "output_type": "stream",
     "text": [
      "Do you want some more changes? If No, enter 'Exit' to quit Exit\n"
     ]
    }
   ],
   "source": [
    "# The below code will continue to ask the end-user if he/she wishes to add refinements to the generated itinenary till he/she enters 'Exit'\n",
    "user_refined_query = \"Continue\"\n",
    "query1 = \"Do you want some changes (e.g. 'Add more food experiences on Day 2') ? If No, enter 'Exit' to quit\"\n",
    "query2 = \"Do you want some more changes? If No, enter 'Exit' to quit\"\n",
    "\n",
    "while user_refined_query != 'Exit':\n",
    "    user_refined_query = input(query1)        \n",
    "    if not user_refined_query == \"Exit\": # if user wants some refinement\n",
    "        print(\"Generating your refined trip plan...\")\n",
    "        refined_itinerary = get_refined_reply(user_refined_query)\n",
    "        print(\"Your refined AI-generated itinerary:\\n \")\n",
    "        print(refined_itinerary)\n",
    "        query1 = query2\n",
    "    else:\n",
    "        # check if user has entered 'Exit' or not\n",
    "        # In case of some invalid input, remind user to input some request for itinenary refinement or enter 'Exit' to quit.\n",
    "        if not user_refined_query == \"Exit\":\n",
    "            print(\"❗ Please provide some input, if you wish to refine the itinenary, or enter 'Exit' to quit\")"
   ]
  }
 ],
 "metadata": {
  "kaggle": {
   "accelerator": "none",
   "dataSources": [
    {
     "sourceId": 97258,
     "sourceType": "competition"
    }
   ],
   "dockerImageVersionId": 31012,
   "isGpuEnabled": false,
   "isInternetEnabled": true,
   "language": "python",
   "sourceType": "notebook"
  },
  "kernelspec": {
   "display_name": "base",
   "language": "python",
   "name": "python3"
  },
  "language_info": {
   "codemirror_mode": {
    "name": "ipython",
    "version": 3
   },
   "file_extension": ".py",
   "mimetype": "text/x-python",
   "name": "python",
   "nbconvert_exporter": "python",
   "pygments_lexer": "ipython3",
   "version": "3.11.4"
  }
 },
 "nbformat": 4,
 "nbformat_minor": 4
}
